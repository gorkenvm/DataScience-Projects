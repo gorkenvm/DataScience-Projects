{
 "cells": [
  {
   "cell_type": "markdown",
   "id": "a7bf32f5",
   "metadata": {
    "pycharm": {
     "name": "#%% md\n"
    }
   },
   "source": [
    "# BG-NBD ve Gamma-Gamma ile CLTV Prediction"
   ]
  },
  {
   "cell_type": "markdown",
   "id": "41a2eac0",
   "metadata": {
    "pycharm": {
     "name": "#%% md\n"
    }
   },
   "source": [
    "İş Problemi (Business Problem)"
   ]
  },
  {
   "cell_type": "markdown",
   "id": "607c383c",
   "metadata": {
    "pycharm": {
     "name": "#%% md\n"
    }
   },
   "source": [
    "FLO satış ve pazarlama faaliyetleri için roadmap belirlemek istemektedir.\n",
    "Şirketin orta uzun vadeli plan yapabilmesi için var olan müşterilerin gelecekte şirkete sağlayacakları potansiyel değerin tahmin edilmesi gerekmektedir."
   ]
  },
  {
   "cell_type": "markdown",
   "id": "1a4bcf20",
   "metadata": {
    "pycharm": {
     "name": "#%% md\n"
    }
   },
   "source": [
    "### Veri Seti Hikayesi"
   ]
  },
  {
   "cell_type": "markdown",
   "id": "2fb17e8e",
   "metadata": {
    "pycharm": {
     "name": "#%% md\n"
    }
   },
   "source": [
    "Veri seti son alışverişlerini 2020 - 2021 yıllarında OmniChannel(hem online hem offline alışveriş yapan) olarak yapan müşterilerin geçmiş alışveriş davranışlarından elde edilen bilgilerden oluşmaktadır."
   ]
  },
  {
   "cell_type": "code",
   "execution_count": 1,
   "id": "fcb4139e",
   "metadata": {
    "pycharm": {
     "name": "#%%\n"
    }
   },
   "outputs": [],
   "source": [
    "# master_id: Eşsiz müşteri numarası\n",
    "# order_channel : Alışveriş yapılan platforma ait hangi kanalın kullanıldığı (Android, ios, Desktop, Mobile, Offline)\n",
    "# last_order_channel : En son alışverişin yapıldığı kanal\n",
    "# first_order_date : Müşterinin yaptığı ilk alışveriş tarihi\n",
    "# last_order_date : Müşterinin yaptığı son alışveriş tarihi\n",
    "# last_order_date_online : Muşterinin online platformda yaptığı son alışveriş tarihi\n",
    "# last_order_date_offline : Muşterinin offline platformda yaptığı son alışveriş tarihi\n",
    "# order_num_total_ever_online : Müşterinin online platformda yaptığı toplam alışveriş sayısı\n",
    "# order_num_total_ever_offline : Müşterinin offline'da yaptığı toplam alışveriş sayısı\n",
    "# customer_value_total_ever_offline : Müşterinin offline alışverişlerinde ödediği toplam ücret\n",
    "# customer_value_total_ever_online : Müşterinin online alışverişlerinde ödediği toplam ücret\n",
    "# interested_in_categories_12 : Müşterinin son 12 ayda alışveriş yaptığı kategorilerin listesi"
   ]
  },
  {
   "cell_type": "markdown",
   "id": "47afb719",
   "metadata": {
    "pycharm": {
     "name": "#%% md\n"
    }
   },
   "source": [
    "## GÖREV 1: Veriyi Hazırlama"
   ]
  },
  {
   "cell_type": "code",
   "execution_count": 2,
   "id": "54ef5b4e",
   "metadata": {
    "pycharm": {
     "name": "#%%\n"
    }
   },
   "outputs": [],
   "source": [
    "import pandas as pd\n",
    "import datetime as dt\n",
    "from lifetimes import BetaGeoFitter\n",
    "from lifetimes import GammaGammaFitter\n",
    "from sklearn.preprocessing import MinMaxScaler\n",
    "pd.set_option('display.max_columns', None)\n",
    "pd.set_option('display.max_rows', None)\n",
    "pd.set_option('display.float_format', lambda x: '%.2f' % x)\n",
    "pd.options.mode.chained_assignment = None"
   ]
  },
  {
   "cell_type": "code",
   "execution_count": 3,
   "id": "641c44be",
   "metadata": {
    "pycharm": {
     "name": "#%%\n"
    }
   },
   "outputs": [],
   "source": [
    "df_ = pd.read_csv(r\"C:\\Users\\Oguz\\Downloads\\flo_data_20k_.csv\")"
   ]
  },
  {
   "cell_type": "code",
   "execution_count": 4,
   "id": "c165acab",
   "metadata": {
    "pycharm": {
     "name": "#%%\n"
    }
   },
   "outputs": [],
   "source": [
    "df = df_.copy()"
   ]
  },
  {
   "cell_type": "markdown",
   "id": "f30264f7",
   "metadata": {
    "pycharm": {
     "name": "#%% md\n"
    }
   },
   "source": [
    "2. Aykırı değerleri baskılamak için gerekli olan outlier_thresholds ve replace_with_thresholds fonksiyonlarını tanımlayınız.\n",
    "Not: cltv hesaplanırken frequency değerleri integer olması gerekmektedir.Bu nedenle alt ve üst limitlerini round() ile yuvarlayınız."
   ]
  },
  {
   "cell_type": "code",
   "execution_count": 5,
   "id": "8ceb61aa",
   "metadata": {
    "pycharm": {
     "name": "#%%\n"
    }
   },
   "outputs": [],
   "source": [
    "def outlier_thresholds(dataframe, variable):\n",
    "    quartile1 = dataframe[variable].quantile(0.01)\n",
    "    quartile3 = dataframe[variable].quantile(0.99)\n",
    "    interquantile_range = quartile3 - quartile1\n",
    "    up_limit = quartile3 + 1.5 * interquantile_range\n",
    "    low_limit = quartile1 - 1.5 * interquantile_range\n",
    "    return low_limit, up_limit"
   ]
  },
  {
   "cell_type": "code",
   "execution_count": 6,
   "id": "dd997a8a",
   "metadata": {
    "pycharm": {
     "name": "#%%\n"
    }
   },
   "outputs": [],
   "source": [
    "def replace_with_thresholds(dataframe, variable):\n",
    "    low_limit, up_limit = outlier_thresholds(dataframe, variable)\n",
    "    dataframe.loc[(dataframe[variable] < low_limit), variable] = round(low_limit,0)\n",
    "    dataframe.loc[(dataframe[variable] > up_limit), variable] = round(up_limit,0)"
   ]
  },
  {
   "cell_type": "code",
   "execution_count": 8,
   "id": "d10e7537",
   "metadata": {
    "pycharm": {
     "name": "#%%\n"
    }
   },
   "outputs": [],
   "source": [
    "# 3. \"order_num_total_ever_online\",\"order_num_total_ever_offline\",\"customer_value_total_ever_offline\",\"customer_value_total_ever_online\" değişkenlerinin\n",
    "#aykırı değerleri varsa baskılayanız.\n",
    "columns = [\"order_num_total_ever_online\", \"order_num_total_ever_offline\", \"customer_value_total_ever_offline\",\"customer_value_total_ever_online\"]"
   ]
  },
  {
   "cell_type": "code",
   "execution_count": 9,
   "id": "6e4437bb",
   "metadata": {
    "pycharm": {
     "name": "#%%\n"
    }
   },
   "outputs": [],
   "source": [
    "for col in columns:\n",
    "    replace_with_thresholds(df, col)"
   ]
  },
  {
   "cell_type": "code",
   "execution_count": 10,
   "id": "26aff4ee",
   "metadata": {
    "pycharm": {
     "name": "#%%\n"
    }
   },
   "outputs": [],
   "source": [
    "# 4. Omnichannel müşterilerin hem online'dan hemde offline platformlardan alışveriş yaptığını ifade etmektedir.\n",
    "# Herbir müşterinin toplam alışveriş sayısı ve harcaması için yeni değişkenler oluşturun.\n",
    "df[\"order_num_total\"] = df[\"order_num_total_ever_online\"] + df[\"order_num_total_ever_offline\"]"
   ]
  },
  {
   "cell_type": "code",
   "execution_count": 11,
   "id": "85606c8a",
   "metadata": {
    "pycharm": {
     "name": "#%%\n"
    }
   },
   "outputs": [],
   "source": [
    "df[\"customer_value_total\"] = df[\"customer_value_total_ever_offline\"] + df[\"customer_value_total_ever_online\"]"
   ]
  },
  {
   "cell_type": "code",
   "execution_count": 12,
   "id": "0e9d96f0",
   "metadata": {
    "pycharm": {
     "name": "#%%\n"
    }
   },
   "outputs": [],
   "source": [
    "# 5. Değişken tiplerini inceleyiniz. Tarih ifade eden değişkenlerin tipini date'e çeviriniz.\n",
    "date_columns = df.columns[df.columns.str.contains(\"date\")]"
   ]
  },
  {
   "cell_type": "code",
   "execution_count": 13,
   "id": "050904e0",
   "metadata": {
    "pycharm": {
     "name": "#%%\n"
    }
   },
   "outputs": [],
   "source": [
    "df[date_columns] = df[date_columns].apply(pd.to_datetime)"
   ]
  },
  {
   "cell_type": "markdown",
   "id": "2a4760b9",
   "metadata": {
    "pycharm": {
     "name": "#%% md\n"
    }
   },
   "source": [
    "## GÖREV 2: CLTV Veri Yapısının Oluşturulması"
   ]
  },
  {
   "cell_type": "code",
   "execution_count": 14,
   "id": "966ff70b",
   "metadata": {
    "pycharm": {
     "name": "#%%\n"
    }
   },
   "outputs": [
    {
     "data": {
      "text/plain": [
       "Timestamp('2021-05-30 00:00:00')"
      ]
     },
     "execution_count": 14,
     "metadata": {},
     "output_type": "execute_result"
    }
   ],
   "source": [
    "# 1.Veri setindeki en son alışverişin yapıldığı tarihten 2 gün sonrasını analiz tarihi olarak alınız.\n",
    "df[\"last_order_date\"].max() # 2021-05-30"
   ]
  },
  {
   "cell_type": "code",
   "execution_count": 15,
   "id": "d5d5407f",
   "metadata": {
    "pycharm": {
     "name": "#%%\n"
    }
   },
   "outputs": [],
   "source": [
    "analysis_date = dt.datetime(2021,6,1)\n"
   ]
  },
  {
   "cell_type": "code",
   "execution_count": 16,
   "id": "5be598c8",
   "metadata": {
    "pycharm": {
     "name": "#%%\n"
    }
   },
   "outputs": [],
   "source": [
    "# 2.customer_id, recency_cltv_weekly, T_weekly, frequency ve monetary_cltv_avg değerlerinin yer aldığı yeni bir cltv dataframe'i oluşturunuz.\n",
    "cltv_df = pd.DataFrame()"
   ]
  },
  {
   "cell_type": "code",
   "execution_count": 17,
   "id": "68915f45",
   "metadata": {
    "pycharm": {
     "name": "#%%\n"
    }
   },
   "outputs": [],
   "source": [
    "cltv_df[\"customer_id\"] = df[\"master_id\"]"
   ]
  },
  {
   "cell_type": "code",
   "execution_count": 18,
   "id": "c287d3b5",
   "metadata": {
    "pycharm": {
     "name": "#%%\n"
    }
   },
   "outputs": [],
   "source": [
    "cltv_df[\"recency_cltv_weekly\"] = ((df[\"last_order_date\"]- df[\"first_order_date\"]).astype('timedelta64[D]')) / 7"
   ]
  },
  {
   "cell_type": "code",
   "execution_count": 19,
   "id": "818df7e7",
   "metadata": {
    "pycharm": {
     "name": "#%%\n"
    }
   },
   "outputs": [],
   "source": [
    "cltv_df[\"T_weekly\"] = ((analysis_date - df[\"first_order_date\"]).astype('timedelta64[D]'))/7"
   ]
  },
  {
   "cell_type": "code",
   "execution_count": 20,
   "id": "fa7fc9c3",
   "metadata": {
    "pycharm": {
     "name": "#%%\n"
    }
   },
   "outputs": [],
   "source": [
    "cltv_df[\"frequency\"] = df[\"order_num_total\"]"
   ]
  },
  {
   "cell_type": "code",
   "execution_count": 21,
   "id": "7dc7ee36",
   "metadata": {
    "pycharm": {
     "name": "#%%\n"
    }
   },
   "outputs": [],
   "source": [
    "cltv_df[\"monetary_cltv_avg\"] = df[\"customer_value_total\"] / df[\"order_num_total\"]"
   ]
  },
  {
   "cell_type": "code",
   "execution_count": 22,
   "id": "47d8a3f9",
   "metadata": {
    "pycharm": {
     "name": "#%%\n"
    }
   },
   "outputs": [
    {
     "data": {
      "text/html": [
       "<div>\n",
       "<style scoped>\n",
       "    .dataframe tbody tr th:only-of-type {\n",
       "        vertical-align: middle;\n",
       "    }\n",
       "\n",
       "    .dataframe tbody tr th {\n",
       "        vertical-align: top;\n",
       "    }\n",
       "\n",
       "    .dataframe thead th {\n",
       "        text-align: right;\n",
       "    }\n",
       "</style>\n",
       "<table border=\"1\" class=\"dataframe\">\n",
       "  <thead>\n",
       "    <tr style=\"text-align: right;\">\n",
       "      <th></th>\n",
       "      <th>customer_id</th>\n",
       "      <th>recency_cltv_weekly</th>\n",
       "      <th>T_weekly</th>\n",
       "      <th>frequency</th>\n",
       "      <th>monetary_cltv_avg</th>\n",
       "    </tr>\n",
       "  </thead>\n",
       "  <tbody>\n",
       "    <tr>\n",
       "      <th>0</th>\n",
       "      <td>cc294636-19f0-11eb-8d74-000d3a38a36f</td>\n",
       "      <td>17.00</td>\n",
       "      <td>30.57</td>\n",
       "      <td>5.00</td>\n",
       "      <td>187.87</td>\n",
       "    </tr>\n",
       "    <tr>\n",
       "      <th>1</th>\n",
       "      <td>f431bd5a-ab7b-11e9-a2fc-000d3a38a36f</td>\n",
       "      <td>209.86</td>\n",
       "      <td>224.86</td>\n",
       "      <td>21.00</td>\n",
       "      <td>95.88</td>\n",
       "    </tr>\n",
       "    <tr>\n",
       "      <th>2</th>\n",
       "      <td>69b69676-1a40-11ea-941b-000d3a38a36f</td>\n",
       "      <td>52.29</td>\n",
       "      <td>78.86</td>\n",
       "      <td>5.00</td>\n",
       "      <td>117.06</td>\n",
       "    </tr>\n",
       "    <tr>\n",
       "      <th>3</th>\n",
       "      <td>1854e56c-491f-11eb-806e-000d3a38a36f</td>\n",
       "      <td>1.57</td>\n",
       "      <td>20.86</td>\n",
       "      <td>2.00</td>\n",
       "      <td>60.98</td>\n",
       "    </tr>\n",
       "    <tr>\n",
       "      <th>4</th>\n",
       "      <td>d6ea1074-f1f5-11e9-9346-000d3a38a36f</td>\n",
       "      <td>83.14</td>\n",
       "      <td>95.43</td>\n",
       "      <td>2.00</td>\n",
       "      <td>104.99</td>\n",
       "    </tr>\n",
       "  </tbody>\n",
       "</table>\n",
       "</div>"
      ],
      "text/plain": [
       "                            customer_id  recency_cltv_weekly  T_weekly  \\\n",
       "0  cc294636-19f0-11eb-8d74-000d3a38a36f                17.00     30.57   \n",
       "1  f431bd5a-ab7b-11e9-a2fc-000d3a38a36f               209.86    224.86   \n",
       "2  69b69676-1a40-11ea-941b-000d3a38a36f                52.29     78.86   \n",
       "3  1854e56c-491f-11eb-806e-000d3a38a36f                 1.57     20.86   \n",
       "4  d6ea1074-f1f5-11e9-9346-000d3a38a36f                83.14     95.43   \n",
       "\n",
       "   frequency  monetary_cltv_avg  \n",
       "0       5.00             187.87  \n",
       "1      21.00              95.88  \n",
       "2       5.00             117.06  \n",
       "3       2.00              60.98  \n",
       "4       2.00             104.99  "
      ]
     },
     "execution_count": 22,
     "metadata": {},
     "output_type": "execute_result"
    }
   ],
   "source": [
    "cltv_df.head()"
   ]
  },
  {
   "cell_type": "markdown",
   "id": "417187e5",
   "metadata": {
    "pycharm": {
     "name": "#%% md\n"
    }
   },
   "source": [
    "## GÖREV 3: BG/NBD, Gamma-Gamma Modellerinin Kurulması, 6 aylık CLTV'nin hesaplanması"
   ]
  },
  {
   "cell_type": "code",
   "execution_count": 23,
   "id": "8ad9a48c",
   "metadata": {
    "pycharm": {
     "name": "#%%\n"
    }
   },
   "outputs": [
    {
     "data": {
      "text/plain": [
       "<lifetimes.BetaGeoFitter: fitted with 19945 subjects, a: 0.00, alpha: 76.17, b: 0.00, r: 3.66>"
      ]
     },
     "execution_count": 23,
     "metadata": {},
     "output_type": "execute_result"
    }
   ],
   "source": [
    "# 1. BG/NBD modelini kurunuz.\n",
    "bgf = BetaGeoFitter(penalizer_coef=0.001)\n",
    "bgf.fit(cltv_df['frequency'],\n",
    "        cltv_df['recency_cltv_weekly'],\n",
    "        cltv_df['T_weekly'])\n"
   ]
  },
  {
   "cell_type": "code",
   "execution_count": 24,
   "id": "66361e16",
   "metadata": {
    "pycharm": {
     "name": "#%%\n"
    }
   },
   "outputs": [],
   "source": [
    "# 3 ay içerisinde müşterilerden beklenen satın almaları tahmin ediniz ve exp_sales_3_month olarak cltv dataframe'ine ekleyiniz.\n",
    "cltv_df[\"exp_sales_3_month\"] = bgf.predict(4*3,\n",
    "                                       cltv_df['frequency'],\n",
    "                                       cltv_df['recency_cltv_weekly'],\n",
    "                                       cltv_df['T_weekly'])"
   ]
  },
  {
   "cell_type": "code",
   "execution_count": 25,
   "id": "9a19d893",
   "metadata": {
    "pycharm": {
     "name": "#%%\n"
    }
   },
   "outputs": [],
   "source": [
    "# 6 ay içerisinde müşterilerden beklenen satın almaları tahmin ediniz ve exp_sales_6_month olarak cltv dataframe'ine ekleyiniz.\n",
    "cltv_df[\"exp_sales_6_month\"] = bgf.predict(4*6,\n",
    "                                       cltv_df['frequency'],\n",
    "                                       cltv_df['recency_cltv_weekly'],\n",
    "                                       cltv_df['T_weekly'])"
   ]
  },
  {
   "cell_type": "code",
   "execution_count": 26,
   "id": "e4c72622",
   "metadata": {
    "pycharm": {
     "name": "#%%\n"
    }
   },
   "outputs": [
    {
     "data": {
      "text/html": [
       "<div>\n",
       "<style scoped>\n",
       "    .dataframe tbody tr th:only-of-type {\n",
       "        vertical-align: middle;\n",
       "    }\n",
       "\n",
       "    .dataframe tbody tr th {\n",
       "        vertical-align: top;\n",
       "    }\n",
       "\n",
       "    .dataframe thead th {\n",
       "        text-align: right;\n",
       "    }\n",
       "</style>\n",
       "<table border=\"1\" class=\"dataframe\">\n",
       "  <thead>\n",
       "    <tr style=\"text-align: right;\">\n",
       "      <th></th>\n",
       "      <th>customer_id</th>\n",
       "      <th>recency_cltv_weekly</th>\n",
       "      <th>T_weekly</th>\n",
       "      <th>frequency</th>\n",
       "      <th>monetary_cltv_avg</th>\n",
       "      <th>exp_sales_3_month</th>\n",
       "      <th>exp_sales_6_month</th>\n",
       "    </tr>\n",
       "  </thead>\n",
       "  <tbody>\n",
       "    <tr>\n",
       "      <th>7330</th>\n",
       "      <td>a4d534a2-5b1b-11eb-8dbd-000d3a38a36f</td>\n",
       "      <td>62.71</td>\n",
       "      <td>67.29</td>\n",
       "      <td>52.00</td>\n",
       "      <td>166.22</td>\n",
       "      <td>4.66</td>\n",
       "      <td>9.31</td>\n",
       "    </tr>\n",
       "    <tr>\n",
       "      <th>15611</th>\n",
       "      <td>4a7e875e-e6ce-11ea-8f44-000d3a38a36f</td>\n",
       "      <td>39.71</td>\n",
       "      <td>40.00</td>\n",
       "      <td>29.00</td>\n",
       "      <td>165.30</td>\n",
       "      <td>3.37</td>\n",
       "      <td>6.75</td>\n",
       "    </tr>\n",
       "    <tr>\n",
       "      <th>8328</th>\n",
       "      <td>1902bf80-0035-11eb-8341-000d3a38a36f</td>\n",
       "      <td>28.86</td>\n",
       "      <td>33.29</td>\n",
       "      <td>25.00</td>\n",
       "      <td>97.44</td>\n",
       "      <td>3.14</td>\n",
       "      <td>6.28</td>\n",
       "    </tr>\n",
       "    <tr>\n",
       "      <th>19538</th>\n",
       "      <td>55d54d9e-8ac7-11ea-8ec0-000d3a38a36f</td>\n",
       "      <td>52.57</td>\n",
       "      <td>58.71</td>\n",
       "      <td>31.00</td>\n",
       "      <td>228.53</td>\n",
       "      <td>3.08</td>\n",
       "      <td>6.17</td>\n",
       "    </tr>\n",
       "    <tr>\n",
       "      <th>14373</th>\n",
       "      <td>f00ad516-c4f4-11ea-98f7-000d3a38a36f</td>\n",
       "      <td>38.00</td>\n",
       "      <td>46.43</td>\n",
       "      <td>27.00</td>\n",
       "      <td>141.35</td>\n",
       "      <td>3.00</td>\n",
       "      <td>6.00</td>\n",
       "    </tr>\n",
       "    <tr>\n",
       "      <th>10489</th>\n",
       "      <td>7af5cd16-b100-11e9-9757-000d3a38a36f</td>\n",
       "      <td>103.14</td>\n",
       "      <td>111.86</td>\n",
       "      <td>43.00</td>\n",
       "      <td>157.11</td>\n",
       "      <td>2.98</td>\n",
       "      <td>5.96</td>\n",
       "    </tr>\n",
       "    <tr>\n",
       "      <th>4315</th>\n",
       "      <td>d5ef8058-a5c6-11e9-a2fc-000d3a38a36f</td>\n",
       "      <td>133.14</td>\n",
       "      <td>147.14</td>\n",
       "      <td>49.00</td>\n",
       "      <td>161.85</td>\n",
       "      <td>2.83</td>\n",
       "      <td>5.66</td>\n",
       "    </tr>\n",
       "    <tr>\n",
       "      <th>6756</th>\n",
       "      <td>27310582-6362-11ea-a6dc-000d3a38a36f</td>\n",
       "      <td>62.71</td>\n",
       "      <td>64.14</td>\n",
       "      <td>29.00</td>\n",
       "      <td>168.88</td>\n",
       "      <td>2.79</td>\n",
       "      <td>5.59</td>\n",
       "    </tr>\n",
       "    <tr>\n",
       "      <th>6666</th>\n",
       "      <td>53fe00d4-7b7a-11eb-960b-000d3a38a36f</td>\n",
       "      <td>9.71</td>\n",
       "      <td>13.00</td>\n",
       "      <td>17.00</td>\n",
       "      <td>259.87</td>\n",
       "      <td>2.78</td>\n",
       "      <td>5.56</td>\n",
       "    </tr>\n",
       "    <tr>\n",
       "      <th>10536</th>\n",
       "      <td>e143b6fa-d6f8-11e9-93bc-000d3a38a36f</td>\n",
       "      <td>104.57</td>\n",
       "      <td>113.43</td>\n",
       "      <td>40.00</td>\n",
       "      <td>176.20</td>\n",
       "      <td>2.76</td>\n",
       "      <td>5.53</td>\n",
       "    </tr>\n",
       "  </tbody>\n",
       "</table>\n",
       "</div>"
      ],
      "text/plain": [
       "                                customer_id  recency_cltv_weekly  T_weekly  \\\n",
       "7330   a4d534a2-5b1b-11eb-8dbd-000d3a38a36f                62.71     67.29   \n",
       "15611  4a7e875e-e6ce-11ea-8f44-000d3a38a36f                39.71     40.00   \n",
       "8328   1902bf80-0035-11eb-8341-000d3a38a36f                28.86     33.29   \n",
       "19538  55d54d9e-8ac7-11ea-8ec0-000d3a38a36f                52.57     58.71   \n",
       "14373  f00ad516-c4f4-11ea-98f7-000d3a38a36f                38.00     46.43   \n",
       "10489  7af5cd16-b100-11e9-9757-000d3a38a36f               103.14    111.86   \n",
       "4315   d5ef8058-a5c6-11e9-a2fc-000d3a38a36f               133.14    147.14   \n",
       "6756   27310582-6362-11ea-a6dc-000d3a38a36f                62.71     64.14   \n",
       "6666   53fe00d4-7b7a-11eb-960b-000d3a38a36f                 9.71     13.00   \n",
       "10536  e143b6fa-d6f8-11e9-93bc-000d3a38a36f               104.57    113.43   \n",
       "\n",
       "       frequency  monetary_cltv_avg  exp_sales_3_month  exp_sales_6_month  \n",
       "7330       52.00             166.22               4.66               9.31  \n",
       "15611      29.00             165.30               3.37               6.75  \n",
       "8328       25.00              97.44               3.14               6.28  \n",
       "19538      31.00             228.53               3.08               6.17  \n",
       "14373      27.00             141.35               3.00               6.00  \n",
       "10489      43.00             157.11               2.98               5.96  \n",
       "4315       49.00             161.85               2.83               5.66  \n",
       "6756       29.00             168.88               2.79               5.59  \n",
       "6666       17.00             259.87               2.78               5.56  \n",
       "10536      40.00             176.20               2.76               5.53  "
      ]
     },
     "execution_count": 26,
     "metadata": {},
     "output_type": "execute_result"
    }
   ],
   "source": [
    "# 3. ve 6.aydaki en çok satın alım gerçekleştirecek 10 kişiyi inceleyeniz. Fark var mı?\n",
    "cltv_df.sort_values(\"exp_sales_3_month\",ascending=False)[:10]"
   ]
  },
  {
   "cell_type": "code",
   "execution_count": 27,
   "id": "79844699",
   "metadata": {
    "pycharm": {
     "name": "#%%\n"
    }
   },
   "outputs": [
    {
     "data": {
      "text/html": [
       "<div>\n",
       "<style scoped>\n",
       "    .dataframe tbody tr th:only-of-type {\n",
       "        vertical-align: middle;\n",
       "    }\n",
       "\n",
       "    .dataframe tbody tr th {\n",
       "        vertical-align: top;\n",
       "    }\n",
       "\n",
       "    .dataframe thead th {\n",
       "        text-align: right;\n",
       "    }\n",
       "</style>\n",
       "<table border=\"1\" class=\"dataframe\">\n",
       "  <thead>\n",
       "    <tr style=\"text-align: right;\">\n",
       "      <th></th>\n",
       "      <th>customer_id</th>\n",
       "      <th>recency_cltv_weekly</th>\n",
       "      <th>T_weekly</th>\n",
       "      <th>frequency</th>\n",
       "      <th>monetary_cltv_avg</th>\n",
       "      <th>exp_sales_3_month</th>\n",
       "      <th>exp_sales_6_month</th>\n",
       "    </tr>\n",
       "  </thead>\n",
       "  <tbody>\n",
       "    <tr>\n",
       "      <th>7330</th>\n",
       "      <td>a4d534a2-5b1b-11eb-8dbd-000d3a38a36f</td>\n",
       "      <td>62.71</td>\n",
       "      <td>67.29</td>\n",
       "      <td>52.00</td>\n",
       "      <td>166.22</td>\n",
       "      <td>4.66</td>\n",
       "      <td>9.31</td>\n",
       "    </tr>\n",
       "    <tr>\n",
       "      <th>15611</th>\n",
       "      <td>4a7e875e-e6ce-11ea-8f44-000d3a38a36f</td>\n",
       "      <td>39.71</td>\n",
       "      <td>40.00</td>\n",
       "      <td>29.00</td>\n",
       "      <td>165.30</td>\n",
       "      <td>3.37</td>\n",
       "      <td>6.75</td>\n",
       "    </tr>\n",
       "    <tr>\n",
       "      <th>8328</th>\n",
       "      <td>1902bf80-0035-11eb-8341-000d3a38a36f</td>\n",
       "      <td>28.86</td>\n",
       "      <td>33.29</td>\n",
       "      <td>25.00</td>\n",
       "      <td>97.44</td>\n",
       "      <td>3.14</td>\n",
       "      <td>6.28</td>\n",
       "    </tr>\n",
       "    <tr>\n",
       "      <th>19538</th>\n",
       "      <td>55d54d9e-8ac7-11ea-8ec0-000d3a38a36f</td>\n",
       "      <td>52.57</td>\n",
       "      <td>58.71</td>\n",
       "      <td>31.00</td>\n",
       "      <td>228.53</td>\n",
       "      <td>3.08</td>\n",
       "      <td>6.17</td>\n",
       "    </tr>\n",
       "    <tr>\n",
       "      <th>14373</th>\n",
       "      <td>f00ad516-c4f4-11ea-98f7-000d3a38a36f</td>\n",
       "      <td>38.00</td>\n",
       "      <td>46.43</td>\n",
       "      <td>27.00</td>\n",
       "      <td>141.35</td>\n",
       "      <td>3.00</td>\n",
       "      <td>6.00</td>\n",
       "    </tr>\n",
       "    <tr>\n",
       "      <th>10489</th>\n",
       "      <td>7af5cd16-b100-11e9-9757-000d3a38a36f</td>\n",
       "      <td>103.14</td>\n",
       "      <td>111.86</td>\n",
       "      <td>43.00</td>\n",
       "      <td>157.11</td>\n",
       "      <td>2.98</td>\n",
       "      <td>5.96</td>\n",
       "    </tr>\n",
       "    <tr>\n",
       "      <th>4315</th>\n",
       "      <td>d5ef8058-a5c6-11e9-a2fc-000d3a38a36f</td>\n",
       "      <td>133.14</td>\n",
       "      <td>147.14</td>\n",
       "      <td>49.00</td>\n",
       "      <td>161.85</td>\n",
       "      <td>2.83</td>\n",
       "      <td>5.66</td>\n",
       "    </tr>\n",
       "    <tr>\n",
       "      <th>6756</th>\n",
       "      <td>27310582-6362-11ea-a6dc-000d3a38a36f</td>\n",
       "      <td>62.71</td>\n",
       "      <td>64.14</td>\n",
       "      <td>29.00</td>\n",
       "      <td>168.88</td>\n",
       "      <td>2.79</td>\n",
       "      <td>5.59</td>\n",
       "    </tr>\n",
       "    <tr>\n",
       "      <th>6666</th>\n",
       "      <td>53fe00d4-7b7a-11eb-960b-000d3a38a36f</td>\n",
       "      <td>9.71</td>\n",
       "      <td>13.00</td>\n",
       "      <td>17.00</td>\n",
       "      <td>259.87</td>\n",
       "      <td>2.78</td>\n",
       "      <td>5.56</td>\n",
       "    </tr>\n",
       "    <tr>\n",
       "      <th>10536</th>\n",
       "      <td>e143b6fa-d6f8-11e9-93bc-000d3a38a36f</td>\n",
       "      <td>104.57</td>\n",
       "      <td>113.43</td>\n",
       "      <td>40.00</td>\n",
       "      <td>176.20</td>\n",
       "      <td>2.76</td>\n",
       "      <td>5.53</td>\n",
       "    </tr>\n",
       "  </tbody>\n",
       "</table>\n",
       "</div>"
      ],
      "text/plain": [
       "                                customer_id  recency_cltv_weekly  T_weekly  \\\n",
       "7330   a4d534a2-5b1b-11eb-8dbd-000d3a38a36f                62.71     67.29   \n",
       "15611  4a7e875e-e6ce-11ea-8f44-000d3a38a36f                39.71     40.00   \n",
       "8328   1902bf80-0035-11eb-8341-000d3a38a36f                28.86     33.29   \n",
       "19538  55d54d9e-8ac7-11ea-8ec0-000d3a38a36f                52.57     58.71   \n",
       "14373  f00ad516-c4f4-11ea-98f7-000d3a38a36f                38.00     46.43   \n",
       "10489  7af5cd16-b100-11e9-9757-000d3a38a36f               103.14    111.86   \n",
       "4315   d5ef8058-a5c6-11e9-a2fc-000d3a38a36f               133.14    147.14   \n",
       "6756   27310582-6362-11ea-a6dc-000d3a38a36f                62.71     64.14   \n",
       "6666   53fe00d4-7b7a-11eb-960b-000d3a38a36f                 9.71     13.00   \n",
       "10536  e143b6fa-d6f8-11e9-93bc-000d3a38a36f               104.57    113.43   \n",
       "\n",
       "       frequency  monetary_cltv_avg  exp_sales_3_month  exp_sales_6_month  \n",
       "7330       52.00             166.22               4.66               9.31  \n",
       "15611      29.00             165.30               3.37               6.75  \n",
       "8328       25.00              97.44               3.14               6.28  \n",
       "19538      31.00             228.53               3.08               6.17  \n",
       "14373      27.00             141.35               3.00               6.00  \n",
       "10489      43.00             157.11               2.98               5.96  \n",
       "4315       49.00             161.85               2.83               5.66  \n",
       "6756       29.00             168.88               2.79               5.59  \n",
       "6666       17.00             259.87               2.78               5.56  \n",
       "10536      40.00             176.20               2.76               5.53  "
      ]
     },
     "execution_count": 27,
     "metadata": {},
     "output_type": "execute_result"
    }
   ],
   "source": [
    "cltv_df.sort_values(\"exp_sales_6_month\",ascending=False)[:10]"
   ]
  },
  {
   "cell_type": "code",
   "execution_count": 28,
   "id": "bd7710d9",
   "metadata": {
    "pycharm": {
     "name": "#%%\n"
    }
   },
   "outputs": [],
   "source": [
    "# 2.  Gamma-Gamma modelini fit ediniz. Müşterilerin ortalama bırakacakları değeri tahminleyip exp_average_value olarak cltv dataframe'ine ekleyiniz.\n",
    "ggf = GammaGammaFitter(penalizer_coef=0.01)\n",
    "ggf.fit(cltv_df['frequency'], cltv_df['monetary_cltv_avg'])\n",
    "cltv_df[\"exp_average_value\"] = ggf.conditional_expected_average_profit(cltv_df['frequency'],\n",
    "                                                                cltv_df['monetary_cltv_avg'])"
   ]
  },
  {
   "cell_type": "code",
   "execution_count": 29,
   "id": "a28691fc",
   "metadata": {
    "pycharm": {
     "name": "#%%\n"
    }
   },
   "outputs": [
    {
     "data": {
      "text/html": [
       "<div>\n",
       "<style scoped>\n",
       "    .dataframe tbody tr th:only-of-type {\n",
       "        vertical-align: middle;\n",
       "    }\n",
       "\n",
       "    .dataframe tbody tr th {\n",
       "        vertical-align: top;\n",
       "    }\n",
       "\n",
       "    .dataframe thead th {\n",
       "        text-align: right;\n",
       "    }\n",
       "</style>\n",
       "<table border=\"1\" class=\"dataframe\">\n",
       "  <thead>\n",
       "    <tr style=\"text-align: right;\">\n",
       "      <th></th>\n",
       "      <th>customer_id</th>\n",
       "      <th>recency_cltv_weekly</th>\n",
       "      <th>T_weekly</th>\n",
       "      <th>frequency</th>\n",
       "      <th>monetary_cltv_avg</th>\n",
       "      <th>exp_sales_3_month</th>\n",
       "      <th>exp_sales_6_month</th>\n",
       "      <th>exp_average_value</th>\n",
       "    </tr>\n",
       "  </thead>\n",
       "  <tbody>\n",
       "    <tr>\n",
       "      <th>0</th>\n",
       "      <td>cc294636-19f0-11eb-8d74-000d3a38a36f</td>\n",
       "      <td>17.00</td>\n",
       "      <td>30.57</td>\n",
       "      <td>5.00</td>\n",
       "      <td>187.87</td>\n",
       "      <td>0.97</td>\n",
       "      <td>1.95</td>\n",
       "      <td>193.63</td>\n",
       "    </tr>\n",
       "    <tr>\n",
       "      <th>1</th>\n",
       "      <td>f431bd5a-ab7b-11e9-a2fc-000d3a38a36f</td>\n",
       "      <td>209.86</td>\n",
       "      <td>224.86</td>\n",
       "      <td>21.00</td>\n",
       "      <td>95.88</td>\n",
       "      <td>0.98</td>\n",
       "      <td>1.97</td>\n",
       "      <td>96.67</td>\n",
       "    </tr>\n",
       "    <tr>\n",
       "      <th>2</th>\n",
       "      <td>69b69676-1a40-11ea-941b-000d3a38a36f</td>\n",
       "      <td>52.29</td>\n",
       "      <td>78.86</td>\n",
       "      <td>5.00</td>\n",
       "      <td>117.06</td>\n",
       "      <td>0.67</td>\n",
       "      <td>1.34</td>\n",
       "      <td>120.97</td>\n",
       "    </tr>\n",
       "    <tr>\n",
       "      <th>3</th>\n",
       "      <td>1854e56c-491f-11eb-806e-000d3a38a36f</td>\n",
       "      <td>1.57</td>\n",
       "      <td>20.86</td>\n",
       "      <td>2.00</td>\n",
       "      <td>60.98</td>\n",
       "      <td>0.70</td>\n",
       "      <td>1.40</td>\n",
       "      <td>67.32</td>\n",
       "    </tr>\n",
       "    <tr>\n",
       "      <th>4</th>\n",
       "      <td>d6ea1074-f1f5-11e9-9346-000d3a38a36f</td>\n",
       "      <td>83.14</td>\n",
       "      <td>95.43</td>\n",
       "      <td>2.00</td>\n",
       "      <td>104.99</td>\n",
       "      <td>0.40</td>\n",
       "      <td>0.79</td>\n",
       "      <td>114.33</td>\n",
       "    </tr>\n",
       "  </tbody>\n",
       "</table>\n",
       "</div>"
      ],
      "text/plain": [
       "                            customer_id  recency_cltv_weekly  T_weekly  \\\n",
       "0  cc294636-19f0-11eb-8d74-000d3a38a36f                17.00     30.57   \n",
       "1  f431bd5a-ab7b-11e9-a2fc-000d3a38a36f               209.86    224.86   \n",
       "2  69b69676-1a40-11ea-941b-000d3a38a36f                52.29     78.86   \n",
       "3  1854e56c-491f-11eb-806e-000d3a38a36f                 1.57     20.86   \n",
       "4  d6ea1074-f1f5-11e9-9346-000d3a38a36f                83.14     95.43   \n",
       "\n",
       "   frequency  monetary_cltv_avg  exp_sales_3_month  exp_sales_6_month  \\\n",
       "0       5.00             187.87               0.97               1.95   \n",
       "1      21.00              95.88               0.98               1.97   \n",
       "2       5.00             117.06               0.67               1.34   \n",
       "3       2.00              60.98               0.70               1.40   \n",
       "4       2.00             104.99               0.40               0.79   \n",
       "\n",
       "   exp_average_value  \n",
       "0             193.63  \n",
       "1              96.67  \n",
       "2             120.97  \n",
       "3              67.32  \n",
       "4             114.33  "
      ]
     },
     "execution_count": 29,
     "metadata": {},
     "output_type": "execute_result"
    }
   ],
   "source": [
    "cltv_df.head()"
   ]
  },
  {
   "cell_type": "code",
   "execution_count": 30,
   "id": "a675e498",
   "metadata": {
    "pycharm": {
     "name": "#%%\n"
    }
   },
   "outputs": [],
   "source": [
    "# 3. 6 aylık CLTV hesaplayınız ve cltv ismiyle dataframe'e ekleyiniz.\n",
    "cltv = ggf.customer_lifetime_value(bgf,\n",
    "                                   cltv_df['frequency'],\n",
    "                                   cltv_df['recency_cltv_weekly'],\n",
    "                                   cltv_df['T_weekly'],\n",
    "                                   cltv_df['monetary_cltv_avg'],\n",
    "                                   time=6,\n",
    "                                   freq=\"W\",\n",
    "                                   discount_rate=0.01)"
   ]
  },
  {
   "cell_type": "code",
   "execution_count": 31,
   "id": "23a8870a",
   "metadata": {
    "pycharm": {
     "name": "#%%\n"
    }
   },
   "outputs": [],
   "source": [
    "cltv_df[\"cltv\"] = cltv"
   ]
  },
  {
   "cell_type": "code",
   "execution_count": 32,
   "id": "e6ddd4c2",
   "metadata": {
    "pycharm": {
     "name": "#%%\n"
    }
   },
   "outputs": [
    {
     "data": {
      "text/html": [
       "<div>\n",
       "<style scoped>\n",
       "    .dataframe tbody tr th:only-of-type {\n",
       "        vertical-align: middle;\n",
       "    }\n",
       "\n",
       "    .dataframe tbody tr th {\n",
       "        vertical-align: top;\n",
       "    }\n",
       "\n",
       "    .dataframe thead th {\n",
       "        text-align: right;\n",
       "    }\n",
       "</style>\n",
       "<table border=\"1\" class=\"dataframe\">\n",
       "  <thead>\n",
       "    <tr style=\"text-align: right;\">\n",
       "      <th></th>\n",
       "      <th>customer_id</th>\n",
       "      <th>recency_cltv_weekly</th>\n",
       "      <th>T_weekly</th>\n",
       "      <th>frequency</th>\n",
       "      <th>monetary_cltv_avg</th>\n",
       "      <th>exp_sales_3_month</th>\n",
       "      <th>exp_sales_6_month</th>\n",
       "      <th>exp_average_value</th>\n",
       "      <th>cltv</th>\n",
       "    </tr>\n",
       "  </thead>\n",
       "  <tbody>\n",
       "    <tr>\n",
       "      <th>9055</th>\n",
       "      <td>47a642fe-975b-11eb-8c2a-000d3a38a36f</td>\n",
       "      <td>2.86</td>\n",
       "      <td>7.86</td>\n",
       "      <td>4.00</td>\n",
       "      <td>1401.80</td>\n",
       "      <td>1.09</td>\n",
       "      <td>2.19</td>\n",
       "      <td>1449.06</td>\n",
       "      <td>3327.78</td>\n",
       "    </tr>\n",
       "    <tr>\n",
       "      <th>13880</th>\n",
       "      <td>7137a5c0-7aad-11ea-8f20-000d3a38a36f</td>\n",
       "      <td>6.14</td>\n",
       "      <td>13.14</td>\n",
       "      <td>11.00</td>\n",
       "      <td>758.09</td>\n",
       "      <td>1.97</td>\n",
       "      <td>3.94</td>\n",
       "      <td>767.36</td>\n",
       "      <td>3172.39</td>\n",
       "    </tr>\n",
       "    <tr>\n",
       "      <th>17323</th>\n",
       "      <td>f59053e2-a503-11e9-a2fc-000d3a38a36f</td>\n",
       "      <td>51.71</td>\n",
       "      <td>101.00</td>\n",
       "      <td>7.00</td>\n",
       "      <td>1106.47</td>\n",
       "      <td>0.72</td>\n",
       "      <td>1.44</td>\n",
       "      <td>1127.61</td>\n",
       "      <td>1708.98</td>\n",
       "    </tr>\n",
       "    <tr>\n",
       "      <th>12438</th>\n",
       "      <td>625f40a2-5bd2-11ea-98b0-000d3a38a36f</td>\n",
       "      <td>74.29</td>\n",
       "      <td>74.57</td>\n",
       "      <td>16.00</td>\n",
       "      <td>501.87</td>\n",
       "      <td>1.57</td>\n",
       "      <td>3.13</td>\n",
       "      <td>506.17</td>\n",
       "      <td>1662.61</td>\n",
       "    </tr>\n",
       "    <tr>\n",
       "      <th>7330</th>\n",
       "      <td>a4d534a2-5b1b-11eb-8dbd-000d3a38a36f</td>\n",
       "      <td>62.71</td>\n",
       "      <td>67.29</td>\n",
       "      <td>52.00</td>\n",
       "      <td>166.22</td>\n",
       "      <td>4.66</td>\n",
       "      <td>9.31</td>\n",
       "      <td>166.71</td>\n",
       "      <td>1628.89</td>\n",
       "    </tr>\n",
       "    <tr>\n",
       "      <th>8868</th>\n",
       "      <td>9ce6e520-89b0-11ea-a6e7-000d3a38a36f</td>\n",
       "      <td>3.43</td>\n",
       "      <td>34.43</td>\n",
       "      <td>8.00</td>\n",
       "      <td>601.23</td>\n",
       "      <td>1.27</td>\n",
       "      <td>2.53</td>\n",
       "      <td>611.49</td>\n",
       "      <td>1623.81</td>\n",
       "    </tr>\n",
       "    <tr>\n",
       "      <th>6402</th>\n",
       "      <td>851de3b4-8f0c-11eb-8cb8-000d3a38a36f</td>\n",
       "      <td>8.29</td>\n",
       "      <td>9.43</td>\n",
       "      <td>2.00</td>\n",
       "      <td>862.69</td>\n",
       "      <td>0.79</td>\n",
       "      <td>1.59</td>\n",
       "      <td>923.68</td>\n",
       "      <td>1538.86</td>\n",
       "    </tr>\n",
       "    <tr>\n",
       "      <th>6666</th>\n",
       "      <td>53fe00d4-7b7a-11eb-960b-000d3a38a36f</td>\n",
       "      <td>9.71</td>\n",
       "      <td>13.00</td>\n",
       "      <td>17.00</td>\n",
       "      <td>259.87</td>\n",
       "      <td>2.78</td>\n",
       "      <td>5.56</td>\n",
       "      <td>262.07</td>\n",
       "      <td>1529.23</td>\n",
       "    </tr>\n",
       "    <tr>\n",
       "      <th>19538</th>\n",
       "      <td>55d54d9e-8ac7-11ea-8ec0-000d3a38a36f</td>\n",
       "      <td>52.57</td>\n",
       "      <td>58.71</td>\n",
       "      <td>31.00</td>\n",
       "      <td>228.53</td>\n",
       "      <td>3.08</td>\n",
       "      <td>6.17</td>\n",
       "      <td>229.61</td>\n",
       "      <td>1485.82</td>\n",
       "    </tr>\n",
       "    <tr>\n",
       "      <th>14858</th>\n",
       "      <td>031b2954-6d28-11eb-99c4-000d3a38a36f</td>\n",
       "      <td>14.86</td>\n",
       "      <td>15.57</td>\n",
       "      <td>3.00</td>\n",
       "      <td>743.59</td>\n",
       "      <td>0.87</td>\n",
       "      <td>1.74</td>\n",
       "      <td>778.05</td>\n",
       "      <td>1423.00</td>\n",
       "    </tr>\n",
       "    <tr>\n",
       "      <th>17963</th>\n",
       "      <td>8fd88976-6708-11ea-9d38-000d3a38a36f</td>\n",
       "      <td>50.29</td>\n",
       "      <td>63.29</td>\n",
       "      <td>7.00</td>\n",
       "      <td>694.20</td>\n",
       "      <td>0.92</td>\n",
       "      <td>1.84</td>\n",
       "      <td>707.69</td>\n",
       "      <td>1362.61</td>\n",
       "    </tr>\n",
       "    <tr>\n",
       "      <th>15516</th>\n",
       "      <td>9083981a-f59e-11e9-841e-000d3a38a36f</td>\n",
       "      <td>63.57</td>\n",
       "      <td>83.86</td>\n",
       "      <td>4.00</td>\n",
       "      <td>1090.36</td>\n",
       "      <td>0.57</td>\n",
       "      <td>1.15</td>\n",
       "      <td>1127.35</td>\n",
       "      <td>1359.44</td>\n",
       "    </tr>\n",
       "    <tr>\n",
       "      <th>6717</th>\n",
       "      <td>40b4f318-9dfb-11eb-9c47-000d3a38a36f</td>\n",
       "      <td>27.14</td>\n",
       "      <td>33.86</td>\n",
       "      <td>7.00</td>\n",
       "      <td>544.70</td>\n",
       "      <td>1.16</td>\n",
       "      <td>2.33</td>\n",
       "      <td>555.41</td>\n",
       "      <td>1355.44</td>\n",
       "    </tr>\n",
       "    <tr>\n",
       "      <th>4157</th>\n",
       "      <td>7eed6468-4540-11ea-acaf-000d3a38a36f</td>\n",
       "      <td>89.14</td>\n",
       "      <td>90.00</td>\n",
       "      <td>27.00</td>\n",
       "      <td>289.76</td>\n",
       "      <td>2.21</td>\n",
       "      <td>4.43</td>\n",
       "      <td>291.29</td>\n",
       "      <td>1353.53</td>\n",
       "    </tr>\n",
       "    <tr>\n",
       "      <th>4735</th>\n",
       "      <td>dbabb58e-6312-11ea-a6dc-000d3a38a36f</td>\n",
       "      <td>61.29</td>\n",
       "      <td>64.29</td>\n",
       "      <td>13.00</td>\n",
       "      <td>442.12</td>\n",
       "      <td>1.42</td>\n",
       "      <td>2.85</td>\n",
       "      <td>446.82</td>\n",
       "      <td>1334.83</td>\n",
       "    </tr>\n",
       "    <tr>\n",
       "      <th>11694</th>\n",
       "      <td>90f1b7f2-bbad-11ea-a0c9-000d3a38a36f</td>\n",
       "      <td>47.29</td>\n",
       "      <td>48.00</td>\n",
       "      <td>6.00</td>\n",
       "      <td>647.34</td>\n",
       "      <td>0.93</td>\n",
       "      <td>1.87</td>\n",
       "      <td>662.11</td>\n",
       "      <td>1297.52</td>\n",
       "    </tr>\n",
       "    <tr>\n",
       "      <th>11179</th>\n",
       "      <td>d2e74a36-3228-11eb-860c-000d3a38a36f</td>\n",
       "      <td>1.14</td>\n",
       "      <td>26.29</td>\n",
       "      <td>3.00</td>\n",
       "      <td>750.57</td>\n",
       "      <td>0.78</td>\n",
       "      <td>1.56</td>\n",
       "      <td>785.34</td>\n",
       "      <td>1286.14</td>\n",
       "    </tr>\n",
       "    <tr>\n",
       "      <th>1853</th>\n",
       "      <td>f02473b0-43c3-11eb-806e-000d3a38a36f</td>\n",
       "      <td>17.29</td>\n",
       "      <td>23.14</td>\n",
       "      <td>2.00</td>\n",
       "      <td>835.88</td>\n",
       "      <td>0.68</td>\n",
       "      <td>1.37</td>\n",
       "      <td>895.04</td>\n",
       "      <td>1285.23</td>\n",
       "    </tr>\n",
       "    <tr>\n",
       "      <th>5775</th>\n",
       "      <td>e31293ac-d63a-11e9-93bc-000d3a38a36f</td>\n",
       "      <td>91.71</td>\n",
       "      <td>93.14</td>\n",
       "      <td>8.00</td>\n",
       "      <td>727.09</td>\n",
       "      <td>0.83</td>\n",
       "      <td>1.65</td>\n",
       "      <td>739.39</td>\n",
       "      <td>1282.58</td>\n",
       "    </tr>\n",
       "    <tr>\n",
       "      <th>7312</th>\n",
       "      <td>90befc98-925a-11eb-b584-000d3a38a36f</td>\n",
       "      <td>4.14</td>\n",
       "      <td>8.86</td>\n",
       "      <td>6.00</td>\n",
       "      <td>431.33</td>\n",
       "      <td>1.36</td>\n",
       "      <td>2.73</td>\n",
       "      <td>441.40</td>\n",
       "      <td>1263.19</td>\n",
       "    </tr>\n",
       "  </tbody>\n",
       "</table>\n",
       "</div>"
      ],
      "text/plain": [
       "                                customer_id  recency_cltv_weekly  T_weekly  \\\n",
       "9055   47a642fe-975b-11eb-8c2a-000d3a38a36f                 2.86      7.86   \n",
       "13880  7137a5c0-7aad-11ea-8f20-000d3a38a36f                 6.14     13.14   \n",
       "17323  f59053e2-a503-11e9-a2fc-000d3a38a36f                51.71    101.00   \n",
       "12438  625f40a2-5bd2-11ea-98b0-000d3a38a36f                74.29     74.57   \n",
       "7330   a4d534a2-5b1b-11eb-8dbd-000d3a38a36f                62.71     67.29   \n",
       "8868   9ce6e520-89b0-11ea-a6e7-000d3a38a36f                 3.43     34.43   \n",
       "6402   851de3b4-8f0c-11eb-8cb8-000d3a38a36f                 8.29      9.43   \n",
       "6666   53fe00d4-7b7a-11eb-960b-000d3a38a36f                 9.71     13.00   \n",
       "19538  55d54d9e-8ac7-11ea-8ec0-000d3a38a36f                52.57     58.71   \n",
       "14858  031b2954-6d28-11eb-99c4-000d3a38a36f                14.86     15.57   \n",
       "17963  8fd88976-6708-11ea-9d38-000d3a38a36f                50.29     63.29   \n",
       "15516  9083981a-f59e-11e9-841e-000d3a38a36f                63.57     83.86   \n",
       "6717   40b4f318-9dfb-11eb-9c47-000d3a38a36f                27.14     33.86   \n",
       "4157   7eed6468-4540-11ea-acaf-000d3a38a36f                89.14     90.00   \n",
       "4735   dbabb58e-6312-11ea-a6dc-000d3a38a36f                61.29     64.29   \n",
       "11694  90f1b7f2-bbad-11ea-a0c9-000d3a38a36f                47.29     48.00   \n",
       "11179  d2e74a36-3228-11eb-860c-000d3a38a36f                 1.14     26.29   \n",
       "1853   f02473b0-43c3-11eb-806e-000d3a38a36f                17.29     23.14   \n",
       "5775   e31293ac-d63a-11e9-93bc-000d3a38a36f                91.71     93.14   \n",
       "7312   90befc98-925a-11eb-b584-000d3a38a36f                 4.14      8.86   \n",
       "\n",
       "       frequency  monetary_cltv_avg  exp_sales_3_month  exp_sales_6_month  \\\n",
       "9055        4.00            1401.80               1.09               2.19   \n",
       "13880      11.00             758.09               1.97               3.94   \n",
       "17323       7.00            1106.47               0.72               1.44   \n",
       "12438      16.00             501.87               1.57               3.13   \n",
       "7330       52.00             166.22               4.66               9.31   \n",
       "8868        8.00             601.23               1.27               2.53   \n",
       "6402        2.00             862.69               0.79               1.59   \n",
       "6666       17.00             259.87               2.78               5.56   \n",
       "19538      31.00             228.53               3.08               6.17   \n",
       "14858       3.00             743.59               0.87               1.74   \n",
       "17963       7.00             694.20               0.92               1.84   \n",
       "15516       4.00            1090.36               0.57               1.15   \n",
       "6717        7.00             544.70               1.16               2.33   \n",
       "4157       27.00             289.76               2.21               4.43   \n",
       "4735       13.00             442.12               1.42               2.85   \n",
       "11694       6.00             647.34               0.93               1.87   \n",
       "11179       3.00             750.57               0.78               1.56   \n",
       "1853        2.00             835.88               0.68               1.37   \n",
       "5775        8.00             727.09               0.83               1.65   \n",
       "7312        6.00             431.33               1.36               2.73   \n",
       "\n",
       "       exp_average_value    cltv  \n",
       "9055             1449.06 3327.78  \n",
       "13880             767.36 3172.39  \n",
       "17323            1127.61 1708.98  \n",
       "12438             506.17 1662.61  \n",
       "7330              166.71 1628.89  \n",
       "8868              611.49 1623.81  \n",
       "6402              923.68 1538.86  \n",
       "6666              262.07 1529.23  \n",
       "19538             229.61 1485.82  \n",
       "14858             778.05 1423.00  \n",
       "17963             707.69 1362.61  \n",
       "15516            1127.35 1359.44  \n",
       "6717              555.41 1355.44  \n",
       "4157              291.29 1353.53  \n",
       "4735              446.82 1334.83  \n",
       "11694             662.11 1297.52  \n",
       "11179             785.34 1286.14  \n",
       "1853              895.04 1285.23  \n",
       "5775              739.39 1282.58  \n",
       "7312              441.40 1263.19  "
      ]
     },
     "execution_count": 32,
     "metadata": {},
     "output_type": "execute_result"
    }
   ],
   "source": [
    "# CLTV değeri en yüksek 20 kişiyi gözlemleyiniz.\n",
    "cltv_df.sort_values(\"cltv\",ascending=False)[:20]"
   ]
  },
  {
   "cell_type": "markdown",
   "id": "be80c41d",
   "metadata": {
    "pycharm": {
     "name": "#%% md\n"
    }
   },
   "source": [
    "## GÖREV 4: CLTV'ye Göre Segmentlerin Oluşturulması"
   ]
  },
  {
   "cell_type": "code",
   "execution_count": 33,
   "id": "637ad279",
   "metadata": {
    "pycharm": {
     "name": "#%%\n"
    }
   },
   "outputs": [],
   "source": [
    "\n",
    "# 1. 6 aylık standartlaştırılmış CLTV'ye göre tüm müşterilerinizi 4 gruba (segmente) ayırınız ve grup isimlerini veri setine ekleyiniz.\n",
    "# cltv_segment ismi ile atayınız.\n",
    "cltv_df[\"cltv_segment\"] = pd.qcut(cltv_df[\"cltv\"], 4, labels=[\"D\", \"C\", \"B\", \"A\"])"
   ]
  },
  {
   "cell_type": "code",
   "execution_count": 34,
   "id": "e8040cd9",
   "metadata": {
    "pycharm": {
     "name": "#%%\n"
    }
   },
   "outputs": [
    {
     "data": {
      "text/html": [
       "<div>\n",
       "<style scoped>\n",
       "    .dataframe tbody tr th:only-of-type {\n",
       "        vertical-align: middle;\n",
       "    }\n",
       "\n",
       "    .dataframe tbody tr th {\n",
       "        vertical-align: top;\n",
       "    }\n",
       "\n",
       "    .dataframe thead th {\n",
       "        text-align: right;\n",
       "    }\n",
       "</style>\n",
       "<table border=\"1\" class=\"dataframe\">\n",
       "  <thead>\n",
       "    <tr style=\"text-align: right;\">\n",
       "      <th></th>\n",
       "      <th>customer_id</th>\n",
       "      <th>recency_cltv_weekly</th>\n",
       "      <th>T_weekly</th>\n",
       "      <th>frequency</th>\n",
       "      <th>monetary_cltv_avg</th>\n",
       "      <th>exp_sales_3_month</th>\n",
       "      <th>exp_sales_6_month</th>\n",
       "      <th>exp_average_value</th>\n",
       "      <th>cltv</th>\n",
       "      <th>cltv_segment</th>\n",
       "    </tr>\n",
       "  </thead>\n",
       "  <tbody>\n",
       "    <tr>\n",
       "      <th>0</th>\n",
       "      <td>cc294636-19f0-11eb-8d74-000d3a38a36f</td>\n",
       "      <td>17.00</td>\n",
       "      <td>30.57</td>\n",
       "      <td>5.00</td>\n",
       "      <td>187.87</td>\n",
       "      <td>0.97</td>\n",
       "      <td>1.95</td>\n",
       "      <td>193.63</td>\n",
       "      <td>395.73</td>\n",
       "      <td>A</td>\n",
       "    </tr>\n",
       "    <tr>\n",
       "      <th>1</th>\n",
       "      <td>f431bd5a-ab7b-11e9-a2fc-000d3a38a36f</td>\n",
       "      <td>209.86</td>\n",
       "      <td>224.86</td>\n",
       "      <td>21.00</td>\n",
       "      <td>95.88</td>\n",
       "      <td>0.98</td>\n",
       "      <td>1.97</td>\n",
       "      <td>96.67</td>\n",
       "      <td>199.43</td>\n",
       "      <td>B</td>\n",
       "    </tr>\n",
       "    <tr>\n",
       "      <th>2</th>\n",
       "      <td>69b69676-1a40-11ea-941b-000d3a38a36f</td>\n",
       "      <td>52.29</td>\n",
       "      <td>78.86</td>\n",
       "      <td>5.00</td>\n",
       "      <td>117.06</td>\n",
       "      <td>0.67</td>\n",
       "      <td>1.34</td>\n",
       "      <td>120.97</td>\n",
       "      <td>170.22</td>\n",
       "      <td>B</td>\n",
       "    </tr>\n",
       "    <tr>\n",
       "      <th>3</th>\n",
       "      <td>1854e56c-491f-11eb-806e-000d3a38a36f</td>\n",
       "      <td>1.57</td>\n",
       "      <td>20.86</td>\n",
       "      <td>2.00</td>\n",
       "      <td>60.98</td>\n",
       "      <td>0.70</td>\n",
       "      <td>1.40</td>\n",
       "      <td>67.32</td>\n",
       "      <td>98.95</td>\n",
       "      <td>D</td>\n",
       "    </tr>\n",
       "    <tr>\n",
       "      <th>4</th>\n",
       "      <td>d6ea1074-f1f5-11e9-9346-000d3a38a36f</td>\n",
       "      <td>83.14</td>\n",
       "      <td>95.43</td>\n",
       "      <td>2.00</td>\n",
       "      <td>104.99</td>\n",
       "      <td>0.40</td>\n",
       "      <td>0.79</td>\n",
       "      <td>114.33</td>\n",
       "      <td>95.01</td>\n",
       "      <td>D</td>\n",
       "    </tr>\n",
       "  </tbody>\n",
       "</table>\n",
       "</div>"
      ],
      "text/plain": [
       "                            customer_id  recency_cltv_weekly  T_weekly  \\\n",
       "0  cc294636-19f0-11eb-8d74-000d3a38a36f                17.00     30.57   \n",
       "1  f431bd5a-ab7b-11e9-a2fc-000d3a38a36f               209.86    224.86   \n",
       "2  69b69676-1a40-11ea-941b-000d3a38a36f                52.29     78.86   \n",
       "3  1854e56c-491f-11eb-806e-000d3a38a36f                 1.57     20.86   \n",
       "4  d6ea1074-f1f5-11e9-9346-000d3a38a36f                83.14     95.43   \n",
       "\n",
       "   frequency  monetary_cltv_avg  exp_sales_3_month  exp_sales_6_month  \\\n",
       "0       5.00             187.87               0.97               1.95   \n",
       "1      21.00              95.88               0.98               1.97   \n",
       "2       5.00             117.06               0.67               1.34   \n",
       "3       2.00              60.98               0.70               1.40   \n",
       "4       2.00             104.99               0.40               0.79   \n",
       "\n",
       "   exp_average_value   cltv cltv_segment  \n",
       "0             193.63 395.73            A  \n",
       "1              96.67 199.43            B  \n",
       "2             120.97 170.22            B  \n",
       "3              67.32  98.95            D  \n",
       "4             114.33  95.01            D  "
      ]
     },
     "execution_count": 34,
     "metadata": {},
     "output_type": "execute_result"
    }
   ],
   "source": [
    "cltv_df.head()"
   ]
  },
  {
   "cell_type": "code",
   "execution_count": 35,
   "id": "f8b5af1a",
   "metadata": {
    "pycharm": {
     "name": "#%%\n"
    }
   },
   "outputs": [],
   "source": [
    "# 2. CLTV skorlarına göre müşterileri 4 gruba ayırmak mantıklı mıdır? Daha az mı ya da daha çok mu olmalıdır. Yorumlayınız.\n",
    "\n",
    "\n",
    "# 3. 4 grup içerisinden seçeceğiniz 2 grup için yönetime kısa kısa 6 aylık aksiyon önerilerinde bulununuz"
   ]
  },
  {
   "cell_type": "code",
   "execution_count": 36,
   "id": "64788909",
   "metadata": {
    "pycharm": {
     "name": "#%%\n"
    }
   },
   "outputs": [],
   "source": [
    "# BONUS: Tüm süreci fonksiyonlaştırınız.\n",
    "###############################################################\n",
    "\n",
    "def create_cltv_df(dataframe):\n",
    "\n",
    "    # Veriyi Hazırlama\n",
    "    columns = [\"order_num_total_ever_online\", \"order_num_total_ever_offline\", \"customer_value_total_ever_offline\",\"customer_value_total_ever_online\"]\n",
    "    for col in columns:\n",
    "        replace_with_thresholds(dataframe, col)\n",
    "\n",
    "    dataframe[\"order_num_total\"] = dataframe[\"order_num_total_ever_online\"] + dataframe[\"order_num_total_ever_offline\"]\n",
    "    dataframe[\"customer_value_total\"] = dataframe[\"customer_value_total_ever_offline\"] + dataframe[\"customer_value_total_ever_online\"]\n",
    "    dataframe = dataframe[~(dataframe[\"customer_value_total\"] == 0) | (dataframe[\"order_num_total\"] == 0)]\n",
    "    date_columns = dataframe.columns[dataframe.columns.str.contains(\"date\")]\n",
    "    dataframe[date_columns] = dataframe[date_columns].apply(pd.to_datetime)\n",
    "\n",
    "    # CLTV veri yapısının oluşturulması\n",
    "    dataframe[\"last_order_date\"].max()  # 2021-05-30\n",
    "    analysis_date = dt.datetime(2021, 6, 1)\n",
    "    cltv_df = pd.DataFrame()\n",
    "    cltv_df[\"customer_id\"] = dataframe[\"master_id\"]\n",
    "    cltv_df[\"recency_cltv_weekly\"] = ((dataframe[\"last_order_date\"] - dataframe[\"first_order_date\"]).astype('timedelta64[D]')) / 7\n",
    "    cltv_df[\"T_weekly\"] = ((analysis_date - dataframe[\"first_order_date\"]).astype('timedelta64[D]')) / 7\n",
    "    cltv_df[\"frequency\"] = dataframe[\"order_num_total\"]\n",
    "    cltv_df[\"monetary_cltv_avg\"] = dataframe[\"customer_value_total\"] / dataframe[\"order_num_total\"]\n",
    "    cltv_df = cltv_df[(cltv_df['frequency'] > 1)]\n",
    "\n",
    "    # BG-NBD Modelinin Kurulması\n",
    "    bgf = BetaGeoFitter(penalizer_coef=0.001)\n",
    "    bgf.fit(cltv_df['frequency'],\n",
    "            cltv_df['recency_cltv_weekly'],\n",
    "            cltv_df['T_weekly'])\n",
    "    cltv_df[\"exp_sales_3_month\"] = bgf.predict(4 * 3,\n",
    "                                               cltv_df['frequency'],\n",
    "                                               cltv_df['recency_cltv_weekly'],\n",
    "                                               cltv_df['T_weekly'])\n",
    "    cltv_df[\"exp_sales_6_month\"] = bgf.predict(4 * 6,\n",
    "                                               cltv_df['frequency'],\n",
    "                                               cltv_df['recency_cltv_weekly'],\n",
    "                                               cltv_df['T_weekly'])\n",
    "\n",
    "    # # Gamma-Gamma Modelinin Kurulması\n",
    "    ggf = GammaGammaFitter(penalizer_coef=0.01)\n",
    "    ggf.fit(cltv_df['frequency'], cltv_df['monetary_cltv_avg'])\n",
    "    cltv_df[\"exp_average_value\"] = ggf.conditional_expected_average_profit(cltv_df['frequency'],\n",
    "                                                                           cltv_df['monetary_cltv_avg'])\n",
    "\n",
    "    # Cltv tahmini\n",
    "    cltv = ggf.customer_lifetime_value(bgf,\n",
    "                                       cltv_df['frequency'],\n",
    "                                       cltv_df['recency_cltv_weekly'],\n",
    "                                       cltv_df['T_weekly'],\n",
    "                                       cltv_df['monetary_cltv_avg'],\n",
    "                                       time=6,\n",
    "                                       freq=\"W\",\n",
    "                                       discount_rate=0.01)\n",
    "    cltv_df[\"cltv\"] = cltv\n",
    "\n",
    "    # CLTV segmentleme\n",
    "    cltv_df[\"cltv_segment\"] = pd.qcut(cltv_df[\"cltv\"], 4, labels=[\"D\", \"C\", \"B\", \"A\"])\n",
    "\n",
    "    return cltv_df"
   ]
  },
  {
   "cell_type": "code",
   "execution_count": 37,
   "id": "87b6ae75",
   "metadata": {
    "pycharm": {
     "name": "#%%\n"
    }
   },
   "outputs": [],
   "source": [
    "cltv_df = create_cltv_df(df)"
   ]
  },
  {
   "cell_type": "code",
   "execution_count": 38,
   "id": "cf425e7a",
   "metadata": {
    "pycharm": {
     "name": "#%%\n"
    }
   },
   "outputs": [
    {
     "data": {
      "text/html": [
       "<div>\n",
       "<style scoped>\n",
       "    .dataframe tbody tr th:only-of-type {\n",
       "        vertical-align: middle;\n",
       "    }\n",
       "\n",
       "    .dataframe tbody tr th {\n",
       "        vertical-align: top;\n",
       "    }\n",
       "\n",
       "    .dataframe thead th {\n",
       "        text-align: right;\n",
       "    }\n",
       "</style>\n",
       "<table border=\"1\" class=\"dataframe\">\n",
       "  <thead>\n",
       "    <tr style=\"text-align: right;\">\n",
       "      <th></th>\n",
       "      <th>customer_id</th>\n",
       "      <th>recency_cltv_weekly</th>\n",
       "      <th>T_weekly</th>\n",
       "      <th>frequency</th>\n",
       "      <th>monetary_cltv_avg</th>\n",
       "      <th>exp_sales_3_month</th>\n",
       "      <th>exp_sales_6_month</th>\n",
       "      <th>exp_average_value</th>\n",
       "      <th>cltv</th>\n",
       "      <th>cltv_segment</th>\n",
       "    </tr>\n",
       "  </thead>\n",
       "  <tbody>\n",
       "    <tr>\n",
       "      <th>0</th>\n",
       "      <td>cc294636-19f0-11eb-8d74-000d3a38a36f</td>\n",
       "      <td>17.00</td>\n",
       "      <td>30.57</td>\n",
       "      <td>5.00</td>\n",
       "      <td>187.87</td>\n",
       "      <td>0.97</td>\n",
       "      <td>1.95</td>\n",
       "      <td>193.63</td>\n",
       "      <td>395.73</td>\n",
       "      <td>A</td>\n",
       "    </tr>\n",
       "    <tr>\n",
       "      <th>1</th>\n",
       "      <td>f431bd5a-ab7b-11e9-a2fc-000d3a38a36f</td>\n",
       "      <td>209.86</td>\n",
       "      <td>224.86</td>\n",
       "      <td>21.00</td>\n",
       "      <td>95.88</td>\n",
       "      <td>0.98</td>\n",
       "      <td>1.97</td>\n",
       "      <td>96.67</td>\n",
       "      <td>199.43</td>\n",
       "      <td>B</td>\n",
       "    </tr>\n",
       "    <tr>\n",
       "      <th>2</th>\n",
       "      <td>69b69676-1a40-11ea-941b-000d3a38a36f</td>\n",
       "      <td>52.29</td>\n",
       "      <td>78.86</td>\n",
       "      <td>5.00</td>\n",
       "      <td>117.06</td>\n",
       "      <td>0.67</td>\n",
       "      <td>1.34</td>\n",
       "      <td>120.97</td>\n",
       "      <td>170.22</td>\n",
       "      <td>B</td>\n",
       "    </tr>\n",
       "    <tr>\n",
       "      <th>3</th>\n",
       "      <td>1854e56c-491f-11eb-806e-000d3a38a36f</td>\n",
       "      <td>1.57</td>\n",
       "      <td>20.86</td>\n",
       "      <td>2.00</td>\n",
       "      <td>60.98</td>\n",
       "      <td>0.70</td>\n",
       "      <td>1.40</td>\n",
       "      <td>67.32</td>\n",
       "      <td>98.95</td>\n",
       "      <td>D</td>\n",
       "    </tr>\n",
       "    <tr>\n",
       "      <th>4</th>\n",
       "      <td>d6ea1074-f1f5-11e9-9346-000d3a38a36f</td>\n",
       "      <td>83.14</td>\n",
       "      <td>95.43</td>\n",
       "      <td>2.00</td>\n",
       "      <td>104.99</td>\n",
       "      <td>0.40</td>\n",
       "      <td>0.79</td>\n",
       "      <td>114.33</td>\n",
       "      <td>95.01</td>\n",
       "      <td>D</td>\n",
       "    </tr>\n",
       "    <tr>\n",
       "      <th>5</th>\n",
       "      <td>e585280e-aae1-11e9-a2fc-000d3a38a36f</td>\n",
       "      <td>120.86</td>\n",
       "      <td>132.29</td>\n",
       "      <td>3.00</td>\n",
       "      <td>66.95</td>\n",
       "      <td>0.38</td>\n",
       "      <td>0.77</td>\n",
       "      <td>71.35</td>\n",
       "      <td>57.43</td>\n",
       "      <td>D</td>\n",
       "    </tr>\n",
       "    <tr>\n",
       "      <th>6</th>\n",
       "      <td>c445e4ee-6242-11ea-9d1a-000d3a38a36f</td>\n",
       "      <td>32.57</td>\n",
       "      <td>64.86</td>\n",
       "      <td>4.00</td>\n",
       "      <td>93.98</td>\n",
       "      <td>0.65</td>\n",
       "      <td>1.30</td>\n",
       "      <td>98.13</td>\n",
       "      <td>134.28</td>\n",
       "      <td>C</td>\n",
       "    </tr>\n",
       "    <tr>\n",
       "      <th>7</th>\n",
       "      <td>3f1b4dc8-8a7d-11ea-8ec0-000d3a38a36f</td>\n",
       "      <td>12.71</td>\n",
       "      <td>54.57</td>\n",
       "      <td>2.00</td>\n",
       "      <td>81.81</td>\n",
       "      <td>0.52</td>\n",
       "      <td>1.04</td>\n",
       "      <td>89.57</td>\n",
       "      <td>97.70</td>\n",
       "      <td>D</td>\n",
       "    </tr>\n",
       "    <tr>\n",
       "      <th>8</th>\n",
       "      <td>cfbda69e-5b4f-11ea-aca7-000d3a38a36f</td>\n",
       "      <td>58.43</td>\n",
       "      <td>70.71</td>\n",
       "      <td>5.00</td>\n",
       "      <td>210.94</td>\n",
       "      <td>0.71</td>\n",
       "      <td>1.42</td>\n",
       "      <td>217.30</td>\n",
       "      <td>322.73</td>\n",
       "      <td>A</td>\n",
       "    </tr>\n",
       "    <tr>\n",
       "      <th>9</th>\n",
       "      <td>1143f032-440d-11ea-8b43-000d3a38a36f</td>\n",
       "      <td>61.71</td>\n",
       "      <td>96.00</td>\n",
       "      <td>2.00</td>\n",
       "      <td>82.98</td>\n",
       "      <td>0.39</td>\n",
       "      <td>0.79</td>\n",
       "      <td>90.81</td>\n",
       "      <td>75.22</td>\n",
       "      <td>D</td>\n",
       "    </tr>\n",
       "  </tbody>\n",
       "</table>\n",
       "</div>"
      ],
      "text/plain": [
       "                            customer_id  recency_cltv_weekly  T_weekly  \\\n",
       "0  cc294636-19f0-11eb-8d74-000d3a38a36f                17.00     30.57   \n",
       "1  f431bd5a-ab7b-11e9-a2fc-000d3a38a36f               209.86    224.86   \n",
       "2  69b69676-1a40-11ea-941b-000d3a38a36f                52.29     78.86   \n",
       "3  1854e56c-491f-11eb-806e-000d3a38a36f                 1.57     20.86   \n",
       "4  d6ea1074-f1f5-11e9-9346-000d3a38a36f                83.14     95.43   \n",
       "5  e585280e-aae1-11e9-a2fc-000d3a38a36f               120.86    132.29   \n",
       "6  c445e4ee-6242-11ea-9d1a-000d3a38a36f                32.57     64.86   \n",
       "7  3f1b4dc8-8a7d-11ea-8ec0-000d3a38a36f                12.71     54.57   \n",
       "8  cfbda69e-5b4f-11ea-aca7-000d3a38a36f                58.43     70.71   \n",
       "9  1143f032-440d-11ea-8b43-000d3a38a36f                61.71     96.00   \n",
       "\n",
       "   frequency  monetary_cltv_avg  exp_sales_3_month  exp_sales_6_month  \\\n",
       "0       5.00             187.87               0.97               1.95   \n",
       "1      21.00              95.88               0.98               1.97   \n",
       "2       5.00             117.06               0.67               1.34   \n",
       "3       2.00              60.98               0.70               1.40   \n",
       "4       2.00             104.99               0.40               0.79   \n",
       "5       3.00              66.95               0.38               0.77   \n",
       "6       4.00              93.98               0.65               1.30   \n",
       "7       2.00              81.81               0.52               1.04   \n",
       "8       5.00             210.94               0.71               1.42   \n",
       "9       2.00              82.98               0.39               0.79   \n",
       "\n",
       "   exp_average_value   cltv cltv_segment  \n",
       "0             193.63 395.73            A  \n",
       "1              96.67 199.43            B  \n",
       "2             120.97 170.22            B  \n",
       "3              67.32  98.95            D  \n",
       "4             114.33  95.01            D  \n",
       "5              71.35  57.43            D  \n",
       "6              98.13 134.28            C  \n",
       "7              89.57  97.70            D  \n",
       "8             217.30 322.73            A  \n",
       "9              90.81  75.22            D  "
      ]
     },
     "execution_count": 38,
     "metadata": {},
     "output_type": "execute_result"
    }
   ],
   "source": [
    "cltv_df.head(10)"
   ]
  },
  {
   "cell_type": "code",
   "execution_count": 39,
   "id": "2f304ab0",
   "metadata": {
    "pycharm": {
     "name": "#%%\n"
    }
   },
   "outputs": [],
   "source": [
    "list=[1,2,3,4,4,5,6,7,8,9]"
   ]
  },
  {
   "cell_type": "code",
   "execution_count": null,
   "id": "e5a50873",
   "metadata": {
    "pycharm": {
     "name": "#%%\n"
    }
   },
   "outputs": [],
   "source": []
  }
 ],
 "metadata": {
  "kernelspec": {
   "display_name": "Python 3 (ipykernel)",
   "language": "python",
   "name": "python3"
  },
  "language_info": {
   "codemirror_mode": {
    "name": "ipython",
    "version": 3
   },
   "file_extension": ".py",
   "mimetype": "text/x-python",
   "name": "python",
   "nbconvert_exporter": "python",
   "pygments_lexer": "ipython3",
   "version": "3.9.7"
  }
 },
 "nbformat": 4,
 "nbformat_minor": 5
}